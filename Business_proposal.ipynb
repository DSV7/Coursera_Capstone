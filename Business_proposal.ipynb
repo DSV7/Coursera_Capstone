{
  "nbformat": 4,
  "nbformat_minor": 0,
  "metadata": {
    "colab": {
      "name": "Business proposal.ipynb",
      "provenance": []
    },
    "kernelspec": {
      "name": "python3",
      "display_name": "Python 3"
    }
  },
  "cells": [
    {
      "cell_type": "markdown",
      "metadata": {
        "id": "OCnuw-SB13W7",
        "colab_type": "text"
      },
      "source": [
        "# **Introduction**"
      ]
    },
    {
      "cell_type": "markdown",
      "metadata": {
        "id": "y7kFy1Xa1nXU",
        "colab_type": "text"
      },
      "source": [
        "New York City's demographics show that it is a large and ethnically diverse metropolis. It is the largest city in the United States with a long history of international immigration. New York City was home to nearly 8.5 million people in 2014, accounting for over 40% of the population of New York State and a slightly lower percentage of the New York metropolitan area, home to approximately 23.6 million. Over the last decade the city has been growing faster than the region. The New York region continues to be by far the leading metropolitan gateway for legal immigrants admitted into the United States.New York City has also been a major point of entry for immigrants; the term \"melting pot\" was coined to describe densely populated immigrant neighbourhoods on the Lower East Side. As many as 800 languages are spoken in New York, making it the most linguistically diverse city in the world. English remains the most widely spoken language, although there are areas in the outer boroughs in which up to 25% of people speak English as an alternate language, and/or have limited or no English language fluency. English is least spoken in neighbourhoods such as Flushing, Sunset Park, and Corona.\n",
        "\n",
        "With its diverse culture, comes diverse food items. There are many restaurants in New York City, each belonging to different categories like Chinese, Indian, and French etc.\n"
      ]
    },
    {
      "cell_type": "markdown",
      "metadata": {
        "id": "1YzPjcut11YH",
        "colab_type": "text"
      },
      "source": [
        "# **Problems**"
      ]
    },
    {
      "cell_type": "markdown",
      "metadata": {
        "id": "aSU4NEjw1nrN",
        "colab_type": "text"
      },
      "source": [
        "To find the answers to the following questions:\n",
        "\n",
        "Q1)List and visualize all major parts of New York City that has great Indian restaurants.\n",
        "\n",
        "Q2)What is best location in New York City for Indian Cuisine?\n",
        "\n",
        "Q3)Which areas have potential Indian Restaurant Market?\n",
        "\n",
        "Q4)Which all areas lack Indian Restaurants?\n",
        "\n",
        "Q5)Which is the best place to stay if you prefer Indian Cuisine?"
      ]
    },
    {
      "cell_type": "markdown",
      "metadata": {
        "id": "pCGbPAJW1nzs",
        "colab_type": "text"
      },
      "source": [
        ""
      ]
    }
  ]
}