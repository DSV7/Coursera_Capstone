{
  "nbformat": 4,
  "nbformat_minor": 0,
  "metadata": {
    "colab": {
      "name": "Notebook part 2 battle of neighborhood.ipynb",
      "provenance": []
    },
    "kernelspec": {
      "name": "python3",
      "display_name": "Python 3"
    }
  },
  "cells": [
    {
      "cell_type": "code",
      "metadata": {
        "id": "HLZk210UX9GX",
        "colab_type": "code",
        "colab": {
          "base_uri": "https://localhost:8080/",
          "height": 455
        },
        "outputId": "fb60aec6-4c0d-426a-80e1-377455281b15"
      },
      "source": [
        "import pandas as pd\n",
        "import numpy as np\n",
        "pd.set_option('display.max_columns', None)\n",
        "pd.set_option('display.max_rows', None)\n",
        "import requests\n",
        "from bs4 import BeautifulSoup\n",
        "!pip install geocoder\n",
        "import geocoder\n",
        "import os\n",
        "!pip install folium\n",
        "import folium # map rendering library\n",
        "from geopy.geocoders import Nominatim # convert an address into latitude and longitude values\n",
        "# Matplotlib and associated plotting modules\n",
        "import matplotlib.pyplot as plt\n",
        "import matplotlib.cm as cm\n",
        "import matplotlib.colors as colors\n",
        "%matplotlib inline\n",
        "from pandas.io.json import json_normalize\n",
        "\n",
        "\n",
        "print('Libraries imported.')"
      ],
      "execution_count": 17,
      "outputs": [
        {
          "output_type": "stream",
          "text": [
            "Requirement already satisfied: geocoder in /usr/local/lib/python3.6/dist-packages (1.38.1)\n",
            "Requirement already satisfied: six in /usr/local/lib/python3.6/dist-packages (from geocoder) (1.15.0)\n",
            "Requirement already satisfied: click in /usr/local/lib/python3.6/dist-packages (from geocoder) (7.1.2)\n",
            "Requirement already satisfied: future in /usr/local/lib/python3.6/dist-packages (from geocoder) (0.16.0)\n",
            "Requirement already satisfied: requests in /usr/local/lib/python3.6/dist-packages (from geocoder) (2.23.0)\n",
            "Requirement already satisfied: ratelim in /usr/local/lib/python3.6/dist-packages (from geocoder) (0.1.6)\n",
            "Requirement already satisfied: urllib3!=1.25.0,!=1.25.1,<1.26,>=1.21.1 in /usr/local/lib/python3.6/dist-packages (from requests->geocoder) (1.24.3)\n",
            "Requirement already satisfied: certifi>=2017.4.17 in /usr/local/lib/python3.6/dist-packages (from requests->geocoder) (2020.6.20)\n",
            "Requirement already satisfied: chardet<4,>=3.0.2 in /usr/local/lib/python3.6/dist-packages (from requests->geocoder) (3.0.4)\n",
            "Requirement already satisfied: idna<3,>=2.5 in /usr/local/lib/python3.6/dist-packages (from requests->geocoder) (2.10)\n",
            "Requirement already satisfied: decorator in /usr/local/lib/python3.6/dist-packages (from ratelim->geocoder) (4.4.2)\n",
            "Requirement already satisfied: folium in /usr/local/lib/python3.6/dist-packages (0.8.3)\n",
            "Requirement already satisfied: six in /usr/local/lib/python3.6/dist-packages (from folium) (1.15.0)\n",
            "Requirement already satisfied: jinja2 in /usr/local/lib/python3.6/dist-packages (from folium) (2.11.2)\n",
            "Requirement already satisfied: requests in /usr/local/lib/python3.6/dist-packages (from folium) (2.23.0)\n",
            "Requirement already satisfied: branca>=0.3.0 in /usr/local/lib/python3.6/dist-packages (from folium) (0.4.1)\n",
            "Requirement already satisfied: numpy in /usr/local/lib/python3.6/dist-packages (from folium) (1.18.5)\n",
            "Requirement already satisfied: MarkupSafe>=0.23 in /usr/local/lib/python3.6/dist-packages (from jinja2->folium) (1.1.1)\n",
            "Requirement already satisfied: urllib3!=1.25.0,!=1.25.1,<1.26,>=1.21.1 in /usr/local/lib/python3.6/dist-packages (from requests->folium) (1.24.3)\n",
            "Requirement already satisfied: chardet<4,>=3.0.2 in /usr/local/lib/python3.6/dist-packages (from requests->folium) (3.0.4)\n",
            "Requirement already satisfied: idna<3,>=2.5 in /usr/local/lib/python3.6/dist-packages (from requests->folium) (2.10)\n",
            "Requirement already satisfied: certifi>=2017.4.17 in /usr/local/lib/python3.6/dist-packages (from requests->folium) (2020.6.20)\n",
            "Libraries imported.\n"
          ],
          "name": "stdout"
        }
      ]
    },
    {
      "cell_type": "code",
      "metadata": {
        "id": "HjmXs2Y9_2Wj",
        "colab_type": "code",
        "colab": {}
      },
      "source": [
        "def geo_location(address):\n",
        "    # get geo location of address\n",
        "    geolocator = Nominatim(user_agent=\"ny_explorer\")\n",
        "    location = geolocator.geocode(address)\n",
        "    latitude = location.latitude\n",
        "    longitude = location.longitude\n",
        "    return latitude,longitude"
      ],
      "execution_count": 18,
      "outputs": []
    },
    {
      "cell_type": "markdown",
      "metadata": {
        "id": "JU-kjCuVZaYV",
        "colab_type": "text"
      },
      "source": [
        "Now we define a function to get the geocodes i.e latitude and longitude of a given location using geopy."
      ]
    },
    {
      "cell_type": "code",
      "metadata": {
        "id": "6jLjxqloX-ww",
        "colab_type": "code",
        "colab": {}
      },
      "source": [
        "def get_venues(lat,lng):\n",
        "    \n",
        "    #set variables\n",
        "    radius=1000\n",
        "    LIMIT=100\n",
        "    CLIENT_ID = ['0M0PONAQXALDXIE01PPG1JTAQLRVFUTSPQZBSXO3DUTC205U'] # your Foursquare ID\n",
        "    CLIENT_SECRET = ['1IOJBGWB3XTT4DRPAHM3N5XIKYRCUIFZI2HWJVCWBQYYZBZ4'] # your Foursquare Secret\n",
        "    VERSION = '20200401' # Foursquare API version\n",
        "    \n",
        "    #url to fetch data from foursquare api\n",
        "    url = 'https://api.foursquare.com/v2/venues/explore?&client_id={}&client_secret={}&v={}&ll={},{}&radius={}&limit={}'.format(\n",
        "            CLIENT_ID, \n",
        "            CLIENT_SECRET, \n",
        "            VERSION, \n",
        "            lat, \n",
        "            lng, \n",
        "            radius, \n",
        "            LIMIT)\n",
        "    \n",
        "    # get all the data\n",
        "    results = requests.get(url).json()\n",
        "    venue_data=results[\"response\"]['groups'][0]['items']\n",
        "    venue_details=[]\n",
        "    for row in venue_data:\n",
        "        try:\n",
        "            venue_id=row['venue']['id']\n",
        "            venue_name=row['venue']['name']\n",
        "            venue_category=row['venue']['categories'][0]['name']\n",
        "            venue_details.append([venue_id,venue_name,venue_category])\n",
        "        except KeyError:\n",
        "            pass\n",
        "        \n",
        "    column_names=['ID','Name','Category']\n",
        "    df = pd.DataFrame(venue_details,columns=column_names) \n",
        "    return df"
      ],
      "execution_count": 32,
      "outputs": []
    },
    {
      "cell_type": "markdown",
      "metadata": {
        "id": "cjJOv_cqZni8",
        "colab_type": "text"
      },
      "source": [
        ""
      ]
    },
    {
      "cell_type": "markdown",
      "metadata": {
        "id": "9JjmHo49ZnnB",
        "colab_type": "text"
      },
      "source": [
        "We define a function to intract with FourSquare API and get top 100 venues within a radius of 1000 metres for a given latitude and longitude. Below function will return us the venue id , venue name and category."
      ]
    },
    {
      "cell_type": "code",
      "metadata": {
        "id": "0nSYOFEZZAp4",
        "colab_type": "code",
        "colab": {}
      },
      "source": [
        "def get_venue_details(venue_id):\n",
        "        \n",
        "    CLIENT_ID = ['CLIENT_ID'] # your Foursquare ID\n",
        "    CLIENT_SECRET = ['CLIENT_SECRET'] # your Foursquare Secret\n",
        "    VERSION = '20200401' # Foursquare API version\n",
        "    \n",
        "    #url to fetch data from foursquare api\n",
        "    url = 'https://api.foursquare.com/v2/venues/{}?&client_id={}&client_secret={}&v={}'.format(\n",
        "            venue_id,\n",
        "            CLIENT_ID, \n",
        "            CLIENT_SECRET, \n",
        "            VERSION)\n",
        "    \n",
        "    # get all the data\n",
        "    results = requests.get(url).json()\n",
        "    venue_data=results['response']['venue']\n",
        "    venue_details=[]\n",
        "    try:\n",
        "        venue_id=venue_data['id']\n",
        "        venue_name=venue_data['name']\n",
        "        venue_likes=venue_data['likes']['count']\n",
        "        venue_rating=venue_data['rating']\n",
        "        venue_tips=venue_data['tips']['count']\n",
        "        venue_details.append([venue_id,venue_name,venue_likes,venue_rating,venue_tips])\n",
        "    except KeyError:\n",
        "        pass\n",
        "        \n",
        "    column_names=['ID','Name','Likes','Rating','Tips']\n",
        "    df = pd.DataFrame(venue_details,columns=column_names)\n",
        "    return df"
      ],
      "execution_count": 20,
      "outputs": []
    },
    {
      "cell_type": "markdown",
      "metadata": {
        "id": "zrArueV7Zspx",
        "colab_type": "text"
      },
      "source": [
        "Now we will define a function to get venue details like like count , rating , tip counts for a given venue id. This will be used for ranking."
      ]
    },
    {
      "cell_type": "code",
      "metadata": {
        "id": "F7pwZU80ZG4-",
        "colab_type": "code",
        "colab": {}
      },
      "source": [
        "def get_new_york_data():\n",
        "    url='https://cocl.us/new_york_dataset'\n",
        "    resp=requests.get(url).json()\n",
        "    # all data is present in features label\n",
        "    features=resp['features']\n",
        "    \n",
        "    # define the dataframe columns\n",
        "    column_names = ['Borough', 'Neighborhood', 'Latitude', 'Longitude'] \n",
        "    # instantiate the dataframe\n",
        "    new_york_data = pd.DataFrame(columns=column_names)\n",
        "    \n",
        "    for data in features:\n",
        "        borough = data['properties']['borough'] \n",
        "        neighborhood_name = data['properties']['name']\n",
        "        \n",
        "        neighborhood_latlon = data['geometry']['coordinates']\n",
        "        neighborhood_lat = neighborhood_latlon[1]\n",
        "        neighborhood_lon = neighborhood_latlon[0]\n",
        "    \n",
        "        new_york_data = new_york_data.append({'Borough': borough,\n",
        "                                          'Neighborhood': neighborhood_name,\n",
        "                                          'Latitude': neighborhood_lat,\n",
        "                                          'Longitude': neighborhood_lon}, ignore_index=True)\n",
        "    \n",
        "    return new_york_data"
      ],
      "execution_count": 21,
      "outputs": []
    },
    {
      "cell_type": "markdown",
      "metadata": {
        "id": "wvUwqiLvZ2Pu",
        "colab_type": "text"
      },
      "source": [
        "Now we define a funtion to get the new york city data such as Boroughs, Neighborhoods along with their latitude and longitude. This function will be use juste after."
      ]
    },
    {
      "cell_type": "code",
      "metadata": {
        "id": "CBoV4qfHZKcN",
        "colab_type": "code",
        "colab": {}
      },
      "source": [
        "new_york_data=get_new_york_data()"
      ],
      "execution_count": 22,
      "outputs": []
    },
    {
      "cell_type": "code",
      "metadata": {
        "id": "qeqBaDr4ZM4f",
        "colab_type": "code",
        "colab": {
          "base_uri": "https://localhost:8080/",
          "height": 206
        },
        "outputId": "8a4f3c9b-a251-4435-aeeb-d3b3f6ab8735"
      },
      "source": [
        "new_york_data.head()"
      ],
      "execution_count": 23,
      "outputs": [
        {
          "output_type": "execute_result",
          "data": {
            "text/html": [
              "<div>\n",
              "<style scoped>\n",
              "    .dataframe tbody tr th:only-of-type {\n",
              "        vertical-align: middle;\n",
              "    }\n",
              "\n",
              "    .dataframe tbody tr th {\n",
              "        vertical-align: top;\n",
              "    }\n",
              "\n",
              "    .dataframe thead th {\n",
              "        text-align: right;\n",
              "    }\n",
              "</style>\n",
              "<table border=\"1\" class=\"dataframe\">\n",
              "  <thead>\n",
              "    <tr style=\"text-align: right;\">\n",
              "      <th></th>\n",
              "      <th>Borough</th>\n",
              "      <th>Neighborhood</th>\n",
              "      <th>Latitude</th>\n",
              "      <th>Longitude</th>\n",
              "    </tr>\n",
              "  </thead>\n",
              "  <tbody>\n",
              "    <tr>\n",
              "      <th>0</th>\n",
              "      <td>Bronx</td>\n",
              "      <td>Wakefield</td>\n",
              "      <td>40.894705</td>\n",
              "      <td>-73.847201</td>\n",
              "    </tr>\n",
              "    <tr>\n",
              "      <th>1</th>\n",
              "      <td>Bronx</td>\n",
              "      <td>Co-op City</td>\n",
              "      <td>40.874294</td>\n",
              "      <td>-73.829939</td>\n",
              "    </tr>\n",
              "    <tr>\n",
              "      <th>2</th>\n",
              "      <td>Bronx</td>\n",
              "      <td>Eastchester</td>\n",
              "      <td>40.887556</td>\n",
              "      <td>-73.827806</td>\n",
              "    </tr>\n",
              "    <tr>\n",
              "      <th>3</th>\n",
              "      <td>Bronx</td>\n",
              "      <td>Fieldston</td>\n",
              "      <td>40.895437</td>\n",
              "      <td>-73.905643</td>\n",
              "    </tr>\n",
              "    <tr>\n",
              "      <th>4</th>\n",
              "      <td>Bronx</td>\n",
              "      <td>Riverdale</td>\n",
              "      <td>40.890834</td>\n",
              "      <td>-73.912585</td>\n",
              "    </tr>\n",
              "  </tbody>\n",
              "</table>\n",
              "</div>"
            ],
            "text/plain": [
              "  Borough Neighborhood   Latitude  Longitude\n",
              "0   Bronx    Wakefield  40.894705 -73.847201\n",
              "1   Bronx   Co-op City  40.874294 -73.829939\n",
              "2   Bronx  Eastchester  40.887556 -73.827806\n",
              "3   Bronx    Fieldston  40.895437 -73.905643\n",
              "4   Bronx    Riverdale  40.890834 -73.912585"
            ]
          },
          "metadata": {
            "tags": []
          },
          "execution_count": 23
        }
      ]
    },
    {
      "cell_type": "markdown",
      "metadata": {
        "id": "pGkT8FDmaHST",
        "colab_type": "text"
      },
      "source": [
        "We will now see how many neighborhood for each brough in NY City do we have with graph.\n"
      ]
    },
    {
      "cell_type": "code",
      "metadata": {
        "id": "3u6IHgEKZQHr",
        "colab_type": "code",
        "colab": {
          "base_uri": "https://localhost:8080/",
          "height": 557
        },
        "outputId": "432c04b7-cc2b-4fb5-ac06-05004e3d6fd9"
      },
      "source": [
        "plt.figure(figsize=(9,5), dpi = 100)\n",
        "# title\n",
        "plt.title('Number of Neighborhood for each Borough in New York City')\n",
        "\n",
        "plt.xlabel('Borough')\n",
        "plt.ylabel('No.of Neighborhood')\n",
        "#giving a bar plot\n",
        "new_york_data.groupby('Borough')['Neighborhood'].count().plot(kind='bar')\n",
        "\n",
        "plt.show()"
      ],
      "execution_count": 24,
      "outputs": [
        {
          "output_type": "display_data",
          "data": {
            "image/png": "[encoded data removed]",
            "text/plain": [
              "<Figure size 900x500 with 1 Axes>"
            ]
          },
          "metadata": {
            "tags": [],
            "needs_background": "light"
          }
        }
      ]
    },
    {
      "cell_type": "markdown",
      "metadata": {
        "id": "VIV39zfFam5f",
        "colab_type": "text"
      },
      "source": [
        "# **We can see that Queens is the borough with the most neighborhood**"
      ]
    },
    {
      "cell_type": "markdown",
      "metadata": {
        "id": "VmQ29QSqavv4",
        "colab_type": "text"
      },
      "source": [
        "We will now collect Indian restaurants for each neighborhood"
      ]
    },
    {
      "cell_type": "code",
      "metadata": {
        "id": "ZY-GMhtjaiuu",
        "colab_type": "code",
        "colab": {
          "base_uri": "https://localhost:8080/",
          "height": 371
        },
        "outputId": "0164bc43-c447-4dd1-a8d0-17f0e90dd183"
      },
      "source": [
        "# prepare neighborhood list that contains indian resturants\n",
        "column_names=['Borough', 'Neighborhood', 'ID','Name']\n",
        "indian_rest_ny=pd.DataFrame(columns=column_names)\n",
        "count=1\n",
        "for row in new_york_data.values.tolist():\n",
        "    Borough, Neighborhood, Latitude, Longitude=row\n",
        "    venues = get_venues(Latitude,Longitude)\n",
        "    indian_resturants=venues[venues['Category']=='Indian Restaurant']   \n",
        "    print('(',count,'/',len(new_york_data),')','Indian Resturants in '+Neighborhood+', '+Borough+':'+str(len(indian_resturants)))\n",
        "    for resturant_detail in indian_resturants.values.tolist():\n",
        "        id, name , category=resturant_detail\n",
        "        indian_rest_ny = indian_rest_ny.append({'Borough': Borough,\n",
        "                                                'Neighborhood': Neighborhood, \n",
        "                                                'ID': id,\n",
        "                                                'Name' : name\n",
        "                                               }, ignore_index=True)\n",
        "    count+=1"
      ],
      "execution_count": 30,
      "outputs": [
        {
          "output_type": "error",
          "ename": "KeyError",
          "evalue": "ignored",
          "traceback": [
            "\u001b[0;31m---------------------------------------------------------------------------\u001b[0m",
            "\u001b[0;31mKeyError\u001b[0m                                  Traceback (most recent call last)",
            "\u001b[0;32m<ipython-input-30-7a917332b722>\u001b[0m in \u001b[0;36m<module>\u001b[0;34m()\u001b[0m\n\u001b[1;32m      5\u001b[0m \u001b[0;32mfor\u001b[0m \u001b[0mrow\u001b[0m \u001b[0;32min\u001b[0m \u001b[0mnew_york_data\u001b[0m\u001b[0;34m.\u001b[0m\u001b[0mvalues\u001b[0m\u001b[0;34m.\u001b[0m\u001b[0mtolist\u001b[0m\u001b[0;34m(\u001b[0m\u001b[0;34m)\u001b[0m\u001b[0;34m:\u001b[0m\u001b[0;34m\u001b[0m\u001b[0;34m\u001b[0m\u001b[0m\n\u001b[1;32m      6\u001b[0m     \u001b[0mBorough\u001b[0m\u001b[0;34m,\u001b[0m \u001b[0mNeighborhood\u001b[0m\u001b[0;34m,\u001b[0m \u001b[0mLatitude\u001b[0m\u001b[0;34m,\u001b[0m \u001b[0mLongitude\u001b[0m\u001b[0;34m=\u001b[0m\u001b[0mrow\u001b[0m\u001b[0;34m\u001b[0m\u001b[0;34m\u001b[0m\u001b[0m\n\u001b[0;32m----> 7\u001b[0;31m     \u001b[0mvenues\u001b[0m \u001b[0;34m=\u001b[0m \u001b[0mget_venues\u001b[0m\u001b[0;34m(\u001b[0m\u001b[0mLatitude\u001b[0m\u001b[0;34m,\u001b[0m\u001b[0mLongitude\u001b[0m\u001b[0;34m)\u001b[0m\u001b[0;34m\u001b[0m\u001b[0;34m\u001b[0m\u001b[0m\n\u001b[0m\u001b[1;32m      8\u001b[0m     \u001b[0mindian_resturants\u001b[0m\u001b[0;34m=\u001b[0m\u001b[0mvenues\u001b[0m\u001b[0;34m[\u001b[0m\u001b[0mvenues\u001b[0m\u001b[0;34m[\u001b[0m\u001b[0;34m'Category'\u001b[0m\u001b[0;34m]\u001b[0m\u001b[0;34m==\u001b[0m\u001b[0;34m'Indian Restaurant'\u001b[0m\u001b[0;34m]\u001b[0m\u001b[0;34m\u001b[0m\u001b[0;34m\u001b[0m\u001b[0m\n\u001b[1;32m      9\u001b[0m     \u001b[0mprint\u001b[0m\u001b[0;34m(\u001b[0m\u001b[0;34m'('\u001b[0m\u001b[0;34m,\u001b[0m\u001b[0mcount\u001b[0m\u001b[0;34m,\u001b[0m\u001b[0;34m'/'\u001b[0m\u001b[0;34m,\u001b[0m\u001b[0mlen\u001b[0m\u001b[0;34m(\u001b[0m\u001b[0mnew_york_data\u001b[0m\u001b[0;34m)\u001b[0m\u001b[0;34m,\u001b[0m\u001b[0;34m')'\u001b[0m\u001b[0;34m,\u001b[0m\u001b[0;34m'Indian Resturants in '\u001b[0m\u001b[0;34m+\u001b[0m\u001b[0mNeighborhood\u001b[0m\u001b[0;34m+\u001b[0m\u001b[0;34m', '\u001b[0m\u001b[0;34m+\u001b[0m\u001b[0mBorough\u001b[0m\u001b[0;34m+\u001b[0m\u001b[0;34m':'\u001b[0m\u001b[0;34m+\u001b[0m\u001b[0mstr\u001b[0m\u001b[0;34m(\u001b[0m\u001b[0mlen\u001b[0m\u001b[0;34m(\u001b[0m\u001b[0mindian_resturants\u001b[0m\u001b[0;34m)\u001b[0m\u001b[0;34m)\u001b[0m\u001b[0;34m)\u001b[0m\u001b[0;34m\u001b[0m\u001b[0;34m\u001b[0m\u001b[0m\n",
            "\u001b[0;32m<ipython-input-29-f1950de5b984>\u001b[0m in \u001b[0;36mget_venues\u001b[0;34m(lat, lng)\u001b[0m\n\u001b[1;32m     20\u001b[0m     \u001b[0;31m# get all the data\u001b[0m\u001b[0;34m\u001b[0m\u001b[0;34m\u001b[0m\u001b[0;34m\u001b[0m\u001b[0m\n\u001b[1;32m     21\u001b[0m     \u001b[0mresults\u001b[0m \u001b[0;34m=\u001b[0m \u001b[0mrequests\u001b[0m\u001b[0;34m.\u001b[0m\u001b[0mget\u001b[0m\u001b[0;34m(\u001b[0m\u001b[0murl\u001b[0m\u001b[0;34m)\u001b[0m\u001b[0;34m.\u001b[0m\u001b[0mjson\u001b[0m\u001b[0;34m(\u001b[0m\u001b[0;34m)\u001b[0m\u001b[0;34m\u001b[0m\u001b[0;34m\u001b[0m\u001b[0m\n\u001b[0;32m---> 22\u001b[0;31m     \u001b[0mvenue_data\u001b[0m\u001b[0;34m=\u001b[0m\u001b[0mresults\u001b[0m\u001b[0;34m[\u001b[0m\u001b[0;34m\"response\"\u001b[0m\u001b[0;34m]\u001b[0m\u001b[0;34m[\u001b[0m\u001b[0;34m'groups'\u001b[0m\u001b[0;34m]\u001b[0m\u001b[0;34m[\u001b[0m\u001b[0;36m0\u001b[0m\u001b[0;34m]\u001b[0m\u001b[0;34m[\u001b[0m\u001b[0;34m'items'\u001b[0m\u001b[0;34m]\u001b[0m\u001b[0;34m\u001b[0m\u001b[0;34m\u001b[0m\u001b[0m\n\u001b[0m\u001b[1;32m     23\u001b[0m     \u001b[0mvenue_details\u001b[0m\u001b[0;34m=\u001b[0m\u001b[0;34m[\u001b[0m\u001b[0;34m]\u001b[0m\u001b[0;34m\u001b[0m\u001b[0;34m\u001b[0m\u001b[0m\n\u001b[1;32m     24\u001b[0m     \u001b[0;32mfor\u001b[0m \u001b[0mrow\u001b[0m \u001b[0;32min\u001b[0m \u001b[0mvenue_data\u001b[0m\u001b[0;34m:\u001b[0m\u001b[0;34m\u001b[0m\u001b[0;34m\u001b[0m\u001b[0m\n",
            "\u001b[0;31mKeyError\u001b[0m: 'groups'"
          ]
        }
      ]
    },
    {
      "cell_type": "code",
      "metadata": {
        "id": "q8SqYu5ka8rU",
        "colab_type": "code",
        "colab": {
          "base_uri": "https://localhost:8080/",
          "height": 49
        },
        "outputId": "591b2e8a-9d25-420c-fb83-3e158fb4dd28"
      },
      "source": [
        "indian_rest_ny.head()"
      ],
      "execution_count": null,
      "outputs": [
        {
          "output_type": "execute_result",
          "data": {
            "text/html": [
              "<div>\n",
              "<style scoped>\n",
              "    .dataframe tbody tr th:only-of-type {\n",
              "        vertical-align: middle;\n",
              "    }\n",
              "\n",
              "    .dataframe tbody tr th {\n",
              "        vertical-align: top;\n",
              "    }\n",
              "\n",
              "    .dataframe thead th {\n",
              "        text-align: right;\n",
              "    }\n",
              "</style>\n",
              "<table border=\"1\" class=\"dataframe\">\n",
              "  <thead>\n",
              "    <tr style=\"text-align: right;\">\n",
              "      <th></th>\n",
              "      <th>Borough</th>\n",
              "      <th>Neighborhood</th>\n",
              "      <th>ID</th>\n",
              "      <th>Name</th>\n",
              "    </tr>\n",
              "  </thead>\n",
              "  <tbody>\n",
              "  </tbody>\n",
              "</table>\n",
              "</div>"
            ],
            "text/plain": [
              "Empty DataFrame\n",
              "Columns: [Borough, Neighborhood, ID, Name]\n",
              "Index: []"
            ]
          },
          "metadata": {
            "tags": []
          },
          "execution_count": 19
        }
      ]
    },
    {
      "cell_type": "code",
      "metadata": {
        "id": "LhrbWaG3d4CK",
        "colab_type": "code",
        "colab": {
          "base_uri": "https://localhost:8080/",
          "height": 35
        },
        "outputId": "9e9f4664-f9a9-4cad-b99f-2b11b1302694"
      },
      "source": [
        "indian_rest_ny.shape"
      ],
      "execution_count": null,
      "outputs": [
        {
          "output_type": "execute_result",
          "data": {
            "text/plain": [
              "(0, 4)"
            ]
          },
          "metadata": {
            "tags": []
          },
          "execution_count": 20
        }
      ]
    },
    {
      "cell_type": "markdown",
      "metadata": {
        "id": "xN5fxhRDGVLm",
        "colab_type": "text"
      },
      "source": [
        "# **From the above result, we see that there are 151 Indian Resturants across New York City.**"
      ]
    },
    {
      "cell_type": "markdown",
      "metadata": {
        "id": "MEFfI_deGeoJ",
        "colab_type": "text"
      },
      "source": [
        "Now let create a BAR PLOT to show Number of Indian Resturants for each Borough in New York City."
      ]
    },
    {
      "cell_type": "code",
      "metadata": {
        "id": "2WXTSgyFd7nD",
        "colab_type": "code",
        "colab": {}
      },
      "source": [
        "plt.figure(figsize=(9,5), dpi = 100)\n",
        "# title\n",
        "plt.title('Number of Indian Resturants for each Borough in New York City')\n",
        "\n",
        "plt.xlabel('Borough')\n",
        "plt.ylabel('No.of Indian Resturants')\n",
        "\n",
        "#giving a bar plot\n",
        "indian_rest_ny.groupby('Borough')['ID'].count().plot(kind='bar')\n",
        "\n",
        "plt.show()"
      ],
      "execution_count": null,
      "outputs": []
    },
    {
      "cell_type": "markdown",
      "metadata": {
        "id": "WC3kl4cMGlXQ",
        "colab_type": "text"
      },
      "source": [
        "**From the above Bar Plot, we can see that Queens has highest number of Indian resturants.**"
      ]
    },
    {
      "cell_type": "code",
      "metadata": {
        "id": "2r7C6W7VeLK3",
        "colab_type": "code",
        "colab": {}
      },
      "source": [
        "plt.figure(figsize=(9,5), dpi = 100)\n",
        "# title\n",
        "plt.title('Number of Indian Resturants for each Neighborhood in New York City')\n",
        "\n",
        "plt.xlabel('Neighborhood', fontsize = 15)\n",
        "plt.ylabel('No.of Indian Resturants', fontsize=15)\n",
        "\n",
        "#giving a bar plot\n",
        "indian_rest_ny.groupby('Neighborhood')['ID'].count().nlargest(5).plot(kind='bar')\n",
        "\n",
        "plt.show()"
      ],
      "execution_count": null,
      "outputs": []
    },
    {
      "cell_type": "code",
      "metadata": {
        "id": "1KX6FVEMHBxP",
        "colab_type": "code",
        "colab": {}
      },
      "source": [
        "indian_rest_ny[indian_rest_ny['Neighborhood']=='Floral Park']"
      ],
      "execution_count": null,
      "outputs": []
    },
    {
      "cell_type": "markdown",
      "metadata": {
        "id": "V5_XT9suHEwR",
        "colab_type": "text"
      },
      "source": [
        "**We can see that, Floral Park in Queens has the highest number of Indian Resturants with a total count of 11.**"
      ]
    },
    {
      "cell_type": "markdown",
      "metadata": {
        "id": "iB3AAMwhHMKh",
        "colab_type": "text"
      },
      "source": [
        "Now we will get the ranking of each resturant for further analysis."
      ]
    },
    {
      "cell_type": "code",
      "metadata": {
        "id": "REC7T-zXe6uo",
        "colab_type": "code",
        "colab": {}
      },
      "source": [
        "# prepare neighborhood list that contains indian resturants\n",
        "column_names=['Borough', 'Neighborhood', 'ID','Name','Likes','Rating','Tips']\n",
        "indian_rest_stats_ny=pd.DataFrame(columns=column_names)\n",
        "count=1\n",
        "\n",
        "\n",
        "for row in indian_rest_ny.values.tolist():\n",
        "    Borough,Neighborhood,ID,Name=row\n",
        "    try:\n",
        "        venue_details=get_venue_details(ID)\n",
        "        print(venue_details)\n",
        "        id,name,likes,rating,tips=venue_details.values.tolist()[0]\n",
        "    except IndexError:\n",
        "        print('No data available for id=',ID)\n",
        "        # we will assign 0 value for these resturants as they may have been \n",
        "        #recently opened or details does not exist in FourSquare Database\n",
        "        id,name,likes,rating,tips=[0]*5\n",
        "    print('(',count,'/',len(indian_rest_ny),')','processed')\n",
        "    indian_rest_stats_ny = indian_rest_stats_ny.append({'Borough': Borough,\n",
        "                                                'Neighborhood': Neighborhood, \n",
        "                                                'ID': id,\n",
        "                                                'Name' : name,\n",
        "                                                'Likes' : likes,\n",
        "                                                'Rating' : rating,\n",
        "                                                'Tips' : tips\n",
        "                                               }, ignore_index=True)\n",
        "    count+=1"
      ],
      "execution_count": 24,
      "outputs": []
    },
    {
      "cell_type": "code",
      "metadata": {
        "id": "rQp9y1KCe7VJ",
        "colab_type": "code",
        "colab": {}
      },
      "source": [
        "indian_rest_stats_ny.head()"
      ],
      "execution_count": null,
      "outputs": []
    },
    {
      "cell_type": "code",
      "metadata": {
        "id": "kCjdW3XZf3g4",
        "colab_type": "code",
        "colab": {}
      },
      "source": [
        "indian_rest_stats_ny.shape"
      ],
      "execution_count": null,
      "outputs": []
    },
    {
      "cell_type": "code",
      "metadata": {
        "id": "y7zMXKccgZIh",
        "colab_type": "code",
        "colab": {}
      },
      "source": [
        "indian_rest_stats_ny.info()"
      ],
      "execution_count": null,
      "outputs": []
    },
    {
      "cell_type": "markdown",
      "metadata": {
        "id": "XdvwhekgHUd4",
        "colab_type": "text"
      },
      "source": [
        "The Data type of 'Likes' and 'Tips' are of type 'String'. we will convert them into type 'Float' for further analysis."
      ]
    },
    {
      "cell_type": "code",
      "metadata": {
        "id": "VWGkqfEtgf3B",
        "colab_type": "code",
        "colab": {}
      },
      "source": [
        "indian_rest_stats_ny['Likes']=indian_rest_stats_ny['Likes'].astype('float64')\n",
        "indian_rest_stats_ny['Tips']=indian_rest_stats_ny['Tips'].astype('float64')"
      ],
      "execution_count": null,
      "outputs": []
    },
    {
      "cell_type": "code",
      "metadata": {
        "id": "hbQVVGvIg68B",
        "colab_type": "code",
        "colab": {}
      },
      "source": [
        "indian_rest_stats_ny.info()"
      ],
      "execution_count": null,
      "outputs": []
    },
    {
      "cell_type": "markdown",
      "metadata": {
        "id": "wfVDbsIGHYlU",
        "colab_type": "text"
      },
      "source": [
        "Now we will find the Indian restuarants with Maximum Likes, Maximum Ratings and Maximum Tips."
      ]
    },
    {
      "cell_type": "code",
      "metadata": {
        "id": "WjyiZJ6Hg-FY",
        "colab_type": "code",
        "colab": {}
      },
      "source": [
        "# Resturant with maximum Likes\n",
        "indian_rest_stats_ny.iloc[indian_rest_stats_ny['Likes'].idxmax()]"
      ],
      "execution_count": null,
      "outputs": []
    },
    {
      "cell_type": "code",
      "metadata": {
        "id": "IMhCn_ZrhD-U",
        "colab_type": "code",
        "colab": {}
      },
      "source": [
        "# Resturant with maximum Rating\n",
        "indian_rest_stats_ny.iloc[indian_rest_stats_ny['Rating'].idxmax()]"
      ],
      "execution_count": null,
      "outputs": []
    },
    {
      "cell_type": "code",
      "metadata": {
        "id": "S3Q4bVF9hJiy",
        "colab_type": "code",
        "colab": {}
      },
      "source": [
        "# Resturant with maximum Tips\n",
        "indian_rest_stats_ny.iloc[indian_rest_stats_ny['Tips'].idxmax()]"
      ],
      "execution_count": null,
      "outputs": []
    },
    {
      "cell_type": "markdown",
      "metadata": {
        "id": "2FeqErurHcxC",
        "colab_type": "text"
      },
      "source": [
        "Next lets visualize neighborhood with maximum average rating of resturants."
      ]
    },
    {
      "cell_type": "code",
      "metadata": {
        "id": "qjrxgjO4hNwR",
        "colab_type": "code",
        "colab": {}
      },
      "source": [
        "ny_neighborhood_stats=indian_rest_stats_ny.groupby('Neighborhood',as_index=False).mean()[['Neighborhood','Rating']]\n",
        "ny_neighborhood_stats.columns=['Neighborhood','Average Rating']"
      ],
      "execution_count": null,
      "outputs": []
    },
    {
      "cell_type": "code",
      "metadata": {
        "id": "diboadBchSb2",
        "colab_type": "code",
        "colab": {}
      },
      "source": [
        "ny_neighborhood_stats.sort_values(['Average Rating'],ascending=False).head(10)"
      ],
      "execution_count": null,
      "outputs": []
    },
    {
      "cell_type": "markdown",
      "metadata": {
        "id": "MwqWRZypHpy6",
        "colab_type": "text"
      },
      "source": [
        "**Above are the top neighborhoods with top average rating of Indian resturants.**"
      ]
    },
    {
      "cell_type": "markdown",
      "metadata": {
        "id": "XYrMRaADHtRS",
        "colab_type": "text"
      },
      "source": [
        "Similarly we will find the average rating of Indian Resturants for each Borough."
      ]
    },
    {
      "cell_type": "code",
      "metadata": {
        "id": "HpSZlySthfeX",
        "colab_type": "code",
        "colab": {}
      },
      "source": [
        "ny_borough_stats=indian_rest_stats_ny.groupby('Borough',as_index=False).mean()[['Borough','Rating']]\n",
        "ny_borough_stats.columns=['Borough','Average Rating']"
      ],
      "execution_count": null,
      "outputs": []
    },
    {
      "cell_type": "code",
      "metadata": {
        "id": "q6mRovJkhh4l",
        "colab_type": "code",
        "colab": {}
      },
      "source": [
        "ny_borough_stats.sort_values(['Average Rating'],ascending=False).head()"
      ],
      "execution_count": null,
      "outputs": []
    },
    {
      "cell_type": "code",
      "metadata": {
        "id": "BcB2jqF4hk_S",
        "colab_type": "code",
        "colab": {}
      },
      "source": [
        "plt.figure(figsize=(9,5), dpi = 100)\n",
        "# title\n",
        "plt.title('Average rating of Indian Resturants for each Borough')\n",
        "\n",
        "plt.xlabel('Borough')\n",
        "plt.ylabel('Average Rating')\n",
        "\n",
        "#giving a bar plot\n",
        "indian_rest_stats_ny.groupby('Borough').mean()['Rating'].plot(kind='bar')\n",
        "\n",
        "plt.show()"
      ],
      "execution_count": null,
      "outputs": []
    },
    {
      "cell_type": "markdown",
      "metadata": {
        "id": "SIW1PPqEHx2M",
        "colab_type": "text"
      },
      "source": [
        "We will consider all the neighborhoods with average rating greater or equal 9.0 to visualize on map."
      ]
    },
    {
      "cell_type": "code",
      "metadata": {
        "id": "RTMhj1B5iDyc",
        "colab_type": "code",
        "colab": {}
      },
      "source": [
        "ny_neighborhood_stats=ny_neighborhood_stats[ny_neighborhood_stats['Average Rating']>=9.0]"
      ],
      "execution_count": null,
      "outputs": []
    },
    {
      "cell_type": "code",
      "metadata": {
        "id": "65tdYoswiHCY",
        "colab_type": "code",
        "colab": {}
      },
      "source": [
        "ny_neighborhood_stats"
      ],
      "execution_count": null,
      "outputs": []
    },
    {
      "cell_type": "markdown",
      "metadata": {
        "id": "e9IGJEraH1YY",
        "colab_type": "text"
      },
      "source": [
        "We will join this dataset to original new york data to get lonitude and latitude."
      ]
    },
    {
      "cell_type": "code",
      "metadata": {
        "id": "XWYvtkXQiJvq",
        "colab_type": "code",
        "colab": {}
      },
      "source": [
        "ny_neighborhood_stats=pd.merge(ny_neighborhood_stats,new_york_data, on='Neighborhood')"
      ],
      "execution_count": null,
      "outputs": []
    },
    {
      "cell_type": "code",
      "metadata": {
        "id": "z4fe_b09iMYZ",
        "colab_type": "code",
        "colab": {}
      },
      "source": [
        "ny_neighborhood_stats=ny_neighborhood_stats[['Borough','Neighborhood','Latitude','Longitude','Average Rating']]"
      ],
      "execution_count": null,
      "outputs": []
    },
    {
      "cell_type": "code",
      "metadata": {
        "id": "lZjdgfnMiRGh",
        "colab_type": "code",
        "colab": {}
      },
      "source": [
        "ny_neighborhood_stats"
      ],
      "execution_count": null,
      "outputs": []
    },
    {
      "cell_type": "markdown",
      "metadata": {
        "id": "nJUQEjJ8H5Kx",
        "colab_type": "text"
      },
      "source": [
        "Finally, Let's show this data on a map."
      ]
    },
    {
      "cell_type": "code",
      "metadata": {
        "id": "tCOtxxuGiTep",
        "colab_type": "code",
        "colab": {}
      },
      "source": [
        "ny_map = folium.Map(location=geo_location('New York'), zoom_start=12)"
      ],
      "execution_count": null,
      "outputs": []
    },
    {
      "cell_type": "code",
      "metadata": {
        "id": "EYRxjDOMilGR",
        "colab_type": "code",
        "colab": {}
      },
      "source": [
        "# instantiate a feature group for the incidents in the dataframe\n",
        "incidents = folium.map.FeatureGroup()\n",
        "\n",
        "# loop through the neighborhood and add each to the feature group\n",
        "for lat, lng, in ny_neighborhood_stats[['Latitude','Longitude']].values:\n",
        "    incidents.add_child(\n",
        "        folium.CircleMarker(\n",
        "            [lat, lng],\n",
        "            radius=10, # define how big you want the circle markers to be\n",
        "            color='yellow',\n",
        "            fill=True,\n",
        "            fill_color='blue',\n",
        "            fill_opacity=0.6\n",
        "        )\n",
        "    )"
      ],
      "execution_count": null,
      "outputs": []
    },
    {
      "cell_type": "markdown",
      "metadata": {
        "id": "-B1mGyqsH_TQ",
        "colab_type": "text"
      },
      "source": [
        "\n",
        "Lets add a new field to dataframe for labeling purpose.\n"
      ]
    },
    {
      "cell_type": "code",
      "metadata": {
        "id": "wSanfUxHipBX",
        "colab_type": "code",
        "colab": {}
      },
      "source": [
        "ny_neighborhood_stats['Label']=ny_neighborhood_stats['Neighborhood']+', '+ny_neighborhood_stats['Borough']+'('+ny_neighborhood_stats['Average Rating'].map(str)+')'"
      ],
      "execution_count": null,
      "outputs": []
    },
    {
      "cell_type": "code",
      "metadata": {
        "id": "UbGETc9WitjI",
        "colab_type": "code",
        "colab": {}
      },
      "source": [
        "# add pop-up text to each marker on the map\n",
        "for lat, lng, label in ny_neighborhood_stats[['Latitude','Longitude','Label']].values:\n",
        "    folium.Marker([lat, lng], popup=label).add_to(ny_map)        \n",
        "# add incidents to map\n",
        "ny_map.add_child(incidents)"
      ],
      "execution_count": null,
      "outputs": []
    },
    {
      "cell_type": "markdown",
      "metadata": {
        "id": "3AbmW8UCIDS-",
        "colab_type": "text"
      },
      "source": [
        "Now that we have visualized the Neighborhoods. Lets Visualize Boroughs based on average Rating."
      ]
    },
    {
      "cell_type": "code",
      "metadata": {
        "id": "omWLh248iyuY",
        "colab_type": "code",
        "colab": {}
      },
      "source": [
        "\n",
        "\n",
        "ny_map = folium.Map(location=geo_location('New York'), zoom_start=12)\n",
        "ny_geo = r'Borough_Boundaries.geojson'\n",
        "\n",
        "map = ny_map.choropleth(\n",
        "    geo_data=ny_geo,\n",
        "    data=ny_borough_stats,\n",
        "    columns=['Borough', 'Average Rating'],\n",
        "    key_on='feature.properties.boro_name',\n",
        "    fill_color='YlOrRd', \n",
        "    fill_opacity=0.7, \n",
        "    line_opacity=0.2,\n",
        "    legend_name='Average Rating'\n",
        ")\n",
        "\n",
        "# display map\n",
        "# as this a huge map I did not print it here."
      ],
      "execution_count": null,
      "outputs": []
    }
  ]
}