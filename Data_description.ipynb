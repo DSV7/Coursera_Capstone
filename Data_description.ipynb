{
  "nbformat": 4,
  "nbformat_minor": 0,
  "metadata": {
    "colab": {
      "name": "Data description.ipynb",
      "provenance": []
    },
    "kernelspec": {
      "name": "python3",
      "display_name": "Python 3"
    }
  },
  "cells": [
    {
      "cell_type": "markdown",
      "metadata": {
        "id": "RSzpa6-46xY2",
        "colab_type": "text"
      },
      "source": [
        "# **Data**"
      ]
    },
    {
      "cell_type": "markdown",
      "metadata": {
        "id": "2fQwMdgV6xh0",
        "colab_type": "text"
      },
      "source": [
        "New York City's demographics show that it is a large and ethnically diverse metropolis. With its diverse culture ,comes diverse food items. There are many restaurants in New York City, each belonging to different categories like Chinese, Indian, and French etc.\n"
      ]
    },
    {
      "cell_type": "markdown",
      "metadata": {
        "id": "-cMZjSTk7HYf",
        "colab_type": "text"
      },
      "source": [
        "**For this project we need the following data:**"
      ]
    },
    {
      "cell_type": "markdown",
      "metadata": {
        "id": "bTvAxPwr7MUN",
        "colab_type": "text"
      },
      "source": [
        "New York City data that contains list Boroughs, Neighbourhoods along with their latitude and longitude.\n",
        "\n",
        "**Data source** : https://cocl.us/new_york_dataset\n",
        "\n",
        "**Description** : This data set contains the required information. And we will use this data set to explore various neighbourhoods of New York City"
      ]
    },
    {
      "cell_type": "markdown",
      "metadata": {
        "id": "5XG9ux-_7vzS",
        "colab_type": "text"
      },
      "source": [
        "Indian restaurants in each neighbourhood of New York City.\n",
        "\n",
        "**Data source** : FoursquareAPI\n",
        "\n",
        "**Description** : By using this API we will get all the venues in each neighbourhood. We can filter these venues to get only Indian restaurants."
      ]
    },
    {
      "cell_type": "markdown",
      "metadata": {
        "id": "yNKMZAKO78o0",
        "colab_type": "text"
      },
      "source": [
        "GeoSpace data\n",
        "\n",
        "**Data source** : https://data.cityofnewyork.us/City-Government/Borough-Boundaries/tqmj-j8zm\n",
        "\n",
        "**Description** : By using this geo space data we will get the New YorkBorough boundaries that will help us visualize choropleth map."
      ]
    }
  ]
}